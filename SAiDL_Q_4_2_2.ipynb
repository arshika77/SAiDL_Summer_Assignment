{
  "nbformat": 4,
  "nbformat_minor": 0,
  "metadata": {
    "colab": {
      "name": "SAiDL_Q_4_2_2.ipynb",
      "provenance": [],
      "toc_visible": true,
      "include_colab_link": true
    },
    "kernelspec": {
      "name": "python3",
      "display_name": "Python 3"
    },
    "accelerator": "GPU",
    "widgets": {
      "application/vnd.jupyter.widget-state+json": {
        "3b28849db4a74bae9c5e95f0a46c71e3": {
          "model_module": "@jupyter-widgets/controls",
          "model_name": "HBoxModel",
          "state": {
            "_view_name": "HBoxView",
            "_dom_classes": [],
            "_model_name": "HBoxModel",
            "_view_module": "@jupyter-widgets/controls",
            "_model_module_version": "1.5.0",
            "_view_count": null,
            "_view_module_version": "1.5.0",
            "box_style": "",
            "layout": "IPY_MODEL_7c3ad189e1464f9a969cddb3194c2a65",
            "_model_module": "@jupyter-widgets/controls",
            "children": [
              "IPY_MODEL_5264e3f15ef64251965bc15d39c6cd02",
              "IPY_MODEL_5b58420b65ce4a57ac55844a0d66e72c"
            ]
          }
        },
        "7c3ad189e1464f9a969cddb3194c2a65": {
          "model_module": "@jupyter-widgets/base",
          "model_name": "LayoutModel",
          "state": {
            "_view_name": "LayoutView",
            "grid_template_rows": null,
            "right": null,
            "justify_content": null,
            "_view_module": "@jupyter-widgets/base",
            "overflow": null,
            "_model_module_version": "1.2.0",
            "_view_count": null,
            "flex_flow": null,
            "width": null,
            "min_width": null,
            "border": null,
            "align_items": null,
            "bottom": null,
            "_model_module": "@jupyter-widgets/base",
            "top": null,
            "grid_column": null,
            "overflow_y": null,
            "overflow_x": null,
            "grid_auto_flow": null,
            "grid_area": null,
            "grid_template_columns": null,
            "flex": null,
            "_model_name": "LayoutModel",
            "justify_items": null,
            "grid_row": null,
            "max_height": null,
            "align_content": null,
            "visibility": null,
            "align_self": null,
            "height": null,
            "min_height": null,
            "padding": null,
            "grid_auto_rows": null,
            "grid_gap": null,
            "max_width": null,
            "order": null,
            "_view_module_version": "1.2.0",
            "grid_template_areas": null,
            "object_position": null,
            "object_fit": null,
            "grid_auto_columns": null,
            "margin": null,
            "display": null,
            "left": null
          }
        },
        "5264e3f15ef64251965bc15d39c6cd02": {
          "model_module": "@jupyter-widgets/controls",
          "model_name": "FloatProgressModel",
          "state": {
            "_view_name": "ProgressView",
            "style": "IPY_MODEL_c1e09c223af14fc78a6a54dba6797014",
            "_dom_classes": [],
            "description": "Downloading: 100%",
            "_model_name": "FloatProgressModel",
            "bar_style": "success",
            "max": 213450,
            "_view_module": "@jupyter-widgets/controls",
            "_model_module_version": "1.5.0",
            "value": 213450,
            "_view_count": null,
            "_view_module_version": "1.5.0",
            "orientation": "horizontal",
            "min": 0,
            "description_tooltip": null,
            "_model_module": "@jupyter-widgets/controls",
            "layout": "IPY_MODEL_7a5d535bdaeb47afb6fb15a904e57130"
          }
        },
        "5b58420b65ce4a57ac55844a0d66e72c": {
          "model_module": "@jupyter-widgets/controls",
          "model_name": "HTMLModel",
          "state": {
            "_view_name": "HTMLView",
            "style": "IPY_MODEL_ae36553dc6d744a4b42ebc14eb981793",
            "_dom_classes": [],
            "description": "",
            "_model_name": "HTMLModel",
            "placeholder": "​",
            "_view_module": "@jupyter-widgets/controls",
            "_model_module_version": "1.5.0",
            "value": " 213k/213k [00:00&lt;00:00, 722kB/s]",
            "_view_count": null,
            "_view_module_version": "1.5.0",
            "description_tooltip": null,
            "_model_module": "@jupyter-widgets/controls",
            "layout": "IPY_MODEL_2008363f1df5478491ab6348eb477e3b"
          }
        },
        "c1e09c223af14fc78a6a54dba6797014": {
          "model_module": "@jupyter-widgets/controls",
          "model_name": "ProgressStyleModel",
          "state": {
            "_view_name": "StyleView",
            "_model_name": "ProgressStyleModel",
            "description_width": "initial",
            "_view_module": "@jupyter-widgets/base",
            "_model_module_version": "1.5.0",
            "_view_count": null,
            "_view_module_version": "1.2.0",
            "bar_color": null,
            "_model_module": "@jupyter-widgets/controls"
          }
        },
        "7a5d535bdaeb47afb6fb15a904e57130": {
          "model_module": "@jupyter-widgets/base",
          "model_name": "LayoutModel",
          "state": {
            "_view_name": "LayoutView",
            "grid_template_rows": null,
            "right": null,
            "justify_content": null,
            "_view_module": "@jupyter-widgets/base",
            "overflow": null,
            "_model_module_version": "1.2.0",
            "_view_count": null,
            "flex_flow": null,
            "width": null,
            "min_width": null,
            "border": null,
            "align_items": null,
            "bottom": null,
            "_model_module": "@jupyter-widgets/base",
            "top": null,
            "grid_column": null,
            "overflow_y": null,
            "overflow_x": null,
            "grid_auto_flow": null,
            "grid_area": null,
            "grid_template_columns": null,
            "flex": null,
            "_model_name": "LayoutModel",
            "justify_items": null,
            "grid_row": null,
            "max_height": null,
            "align_content": null,
            "visibility": null,
            "align_self": null,
            "height": null,
            "min_height": null,
            "padding": null,
            "grid_auto_rows": null,
            "grid_gap": null,
            "max_width": null,
            "order": null,
            "_view_module_version": "1.2.0",
            "grid_template_areas": null,
            "object_position": null,
            "object_fit": null,
            "grid_auto_columns": null,
            "margin": null,
            "display": null,
            "left": null
          }
        },
        "ae36553dc6d744a4b42ebc14eb981793": {
          "model_module": "@jupyter-widgets/controls",
          "model_name": "DescriptionStyleModel",
          "state": {
            "_view_name": "StyleView",
            "_model_name": "DescriptionStyleModel",
            "description_width": "",
            "_view_module": "@jupyter-widgets/base",
            "_model_module_version": "1.5.0",
            "_view_count": null,
            "_view_module_version": "1.2.0",
            "_model_module": "@jupyter-widgets/controls"
          }
        },
        "2008363f1df5478491ab6348eb477e3b": {
          "model_module": "@jupyter-widgets/base",
          "model_name": "LayoutModel",
          "state": {
            "_view_name": "LayoutView",
            "grid_template_rows": null,
            "right": null,
            "justify_content": null,
            "_view_module": "@jupyter-widgets/base",
            "overflow": null,
            "_model_module_version": "1.2.0",
            "_view_count": null,
            "flex_flow": null,
            "width": null,
            "min_width": null,
            "border": null,
            "align_items": null,
            "bottom": null,
            "_model_module": "@jupyter-widgets/base",
            "top": null,
            "grid_column": null,
            "overflow_y": null,
            "overflow_x": null,
            "grid_auto_flow": null,
            "grid_area": null,
            "grid_template_columns": null,
            "flex": null,
            "_model_name": "LayoutModel",
            "justify_items": null,
            "grid_row": null,
            "max_height": null,
            "align_content": null,
            "visibility": null,
            "align_self": null,
            "height": null,
            "min_height": null,
            "padding": null,
            "grid_auto_rows": null,
            "grid_gap": null,
            "max_width": null,
            "order": null,
            "_view_module_version": "1.2.0",
            "grid_template_areas": null,
            "object_position": null,
            "object_fit": null,
            "grid_auto_columns": null,
            "margin": null,
            "display": null,
            "left": null
          }
        }
      }
    }
  },
  "cells": [
    {
      "cell_type": "markdown",
      "metadata": {
        "id": "view-in-github",
        "colab_type": "text"
      },
      "source": [
        "<a href=\"https://colab.research.google.com/github/arshika77/SAiDL_Summer_Assignment/blob/master/SAiDL_Q_4_2_2.ipynb\" target=\"_parent\"><img src=\"https://colab.research.google.com/assets/colab-badge.svg\" alt=\"Open In Colab\"/></a>"
      ]
    },
    {
      "cell_type": "markdown",
      "metadata": {
        "id": "6wqkriJvAsfr",
        "colab_type": "text"
      },
      "source": [
        "#Introduction"
      ]
    },
    {
      "cell_type": "markdown",
      "metadata": {
        "id": "VAEf0xK7_IPy",
        "colab_type": "text"
      },
      "source": [
        "For this multi-class classification task, initially the dataset was trained on a simple LSTM and multihead attention layer ( Not shown to keep notebook size affordable ) . The F1 micro score obtained was 0.52 and the F1 macro score obtained was 0.22 without the attention layer, and 0.54 and 0.28 (respectively) with the attention layer"
      ]
    },
    {
      "cell_type": "markdown",
      "metadata": {
        "id": "Dj3H5JvQ_yzu",
        "colab_type": "text"
      },
      "source": [
        "To improve the performance and make use of a better architecture, the PyTorch-Transformers library was used. PyTorch-Transformers by HuggingFace is a library of state-of-the-art pre-trained models for Natural Language Processing (NLP). It has released only a few years back, bringing about NLP's \"ImageNet moment\". Basically, you can consider the use of pretrained models analogous to the concept of transfer learning used in Image detection/classification problems."
      ]
    },
    {
      "cell_type": "markdown",
      "metadata": {
        "id": "A2qGz-pPAmSC",
        "colab_type": "text"
      },
      "source": [
        "For this problem, we are using the DistilBert architecture. The pretrained model used is \"distilbert-base-uncased\". This model has 6-layers 768 hidden layer size, 12 attention-heads and around 66M parameters.\n",
        "\n",
        "More information on DistilBert can be found in this paper: [DistilBERT, a distilled version of BERT: smaller, faster, cheaper and lighter](https://arxiv.org/abs/1910.01108)"
      ]
    },
    {
      "cell_type": "markdown",
      "metadata": {
        "id": "UGmzP4qqCR5C",
        "colab_type": "text"
      },
      "source": [
        "From DistilBert, the F1 micro score obtained was 0.609 and the F1 macro core obtained was 0.609. Therefore, using \"Transfer Learning\" for the NLP task clearly performed better than writing our own architectures.\n",
        "\n",
        "The training loss was 1.406 and validation loss was 1.285, indicating that there wasn't any significant overfitting"
      ]
    },
    {
      "cell_type": "markdown",
      "metadata": {
        "id": "LMQpWd02C8ni",
        "colab_type": "text"
      },
      "source": [
        "#Implementing DistilBert"
      ]
    },
    {
      "cell_type": "code",
      "metadata": {
        "id": "xHz-13WJ-Aot",
        "colab_type": "code",
        "colab": {
          "base_uri": "https://localhost:8080/",
          "height": 367
        },
        "outputId": "7789a5ba-0a43-4088-fbf4-20a6dc6e003c"
      },
      "source": [
        "!python -m pip install transformers"
      ],
      "execution_count": 2,
      "outputs": [
        {
          "output_type": "stream",
          "text": [
            "Requirement already satisfied: transformers in /usr/local/lib/python3.6/dist-packages (3.0.2)\n",
            "Requirement already satisfied: filelock in /usr/local/lib/python3.6/dist-packages (from transformers) (3.0.12)\n",
            "Requirement already satisfied: requests in /usr/local/lib/python3.6/dist-packages (from transformers) (2.23.0)\n",
            "Requirement already satisfied: regex!=2019.12.17 in /usr/local/lib/python3.6/dist-packages (from transformers) (2019.12.20)\n",
            "Requirement already satisfied: dataclasses; python_version < \"3.7\" in /usr/local/lib/python3.6/dist-packages (from transformers) (0.7)\n",
            "Requirement already satisfied: sacremoses in /usr/local/lib/python3.6/dist-packages (from transformers) (0.0.43)\n",
            "Requirement already satisfied: numpy in /usr/local/lib/python3.6/dist-packages (from transformers) (1.18.5)\n",
            "Requirement already satisfied: tqdm>=4.27 in /usr/local/lib/python3.6/dist-packages (from transformers) (4.41.1)\n",
            "Requirement already satisfied: sentencepiece!=0.1.92 in /usr/local/lib/python3.6/dist-packages (from transformers) (0.1.91)\n",
            "Requirement already satisfied: packaging in /usr/local/lib/python3.6/dist-packages (from transformers) (20.4)\n",
            "Requirement already satisfied: tokenizers==0.8.1.rc1 in /usr/local/lib/python3.6/dist-packages (from transformers) (0.8.1rc1)\n",
            "Requirement already satisfied: urllib3!=1.25.0,!=1.25.1,<1.26,>=1.21.1 in /usr/local/lib/python3.6/dist-packages (from requests->transformers) (1.24.3)\n",
            "Requirement already satisfied: idna<3,>=2.5 in /usr/local/lib/python3.6/dist-packages (from requests->transformers) (2.10)\n",
            "Requirement already satisfied: chardet<4,>=3.0.2 in /usr/local/lib/python3.6/dist-packages (from requests->transformers) (3.0.4)\n",
            "Requirement already satisfied: certifi>=2017.4.17 in /usr/local/lib/python3.6/dist-packages (from requests->transformers) (2020.6.20)\n",
            "Requirement already satisfied: click in /usr/local/lib/python3.6/dist-packages (from sacremoses->transformers) (7.1.2)\n",
            "Requirement already satisfied: six in /usr/local/lib/python3.6/dist-packages (from sacremoses->transformers) (1.15.0)\n",
            "Requirement already satisfied: joblib in /usr/local/lib/python3.6/dist-packages (from sacremoses->transformers) (0.16.0)\n",
            "Requirement already satisfied: pyparsing>=2.0.2 in /usr/local/lib/python3.6/dist-packages (from packaging->transformers) (2.4.7)\n"
          ],
          "name": "stdout"
        }
      ]
    },
    {
      "cell_type": "code",
      "metadata": {
        "id": "G5RRLp1w-FpO",
        "colab_type": "code",
        "colab": {
          "base_uri": "https://localhost:8080/",
          "height": 488
        },
        "outputId": "3d91022f-b37f-44e2-9f66-391f906e5bac"
      },
      "source": [
        "!unzip \"Summer-Induction-Assignment-2020-master.zip\" -d \"data_directory\""
      ],
      "execution_count": 3,
      "outputs": [
        {
          "output_type": "stream",
          "text": [
            "Archive:  Summer-Induction-Assignment-2020-master.zip\n",
            "a68e5defe587061f3116a1d57ea27751d7f5ce4f\n",
            "   creating: data_directory/Summer-Induction-Assignment-2020-master/\n",
            "   creating: data_directory/Summer-Induction-Assignment-2020-master/Question 4.2/\n",
            "   creating: data_directory/Summer-Induction-Assignment-2020-master/Question 4.2/NLP Data/\n",
            "  inflating: data_directory/Summer-Induction-Assignment-2020-master/Question 4.2/NLP Data/README.md  \n",
            "   creating: data_directory/Summer-Induction-Assignment-2020-master/Question 4.2/NLP Data/data/\n",
            "  inflating: data_directory/Summer-Induction-Assignment-2020-master/Question 4.2/NLP Data/data/train.csv  \n",
            "  inflating: data_directory/Summer-Induction-Assignment-2020-master/Question 4.2/NLP Data/data/val.csv  \n",
            "   creating: data_directory/Summer-Induction-Assignment-2020-master/Question 4.2/RL PokeBattle/\n",
            "  inflating: data_directory/Summer-Induction-Assignment-2020-master/Question 4.2/RL PokeBattle/.gitattributes  \n",
            "  inflating: data_directory/Summer-Induction-Assignment-2020-master/Question 4.2/RL PokeBattle/.gitignore  \n",
            "  inflating: data_directory/Summer-Induction-Assignment-2020-master/Question 4.2/RL PokeBattle/Pointers.md  \n",
            "  inflating: data_directory/Summer-Induction-Assignment-2020-master/Question 4.2/RL PokeBattle/README.md  \n",
            "  inflating: data_directory/Summer-Induction-Assignment-2020-master/Question 4.2/RL PokeBattle/Tutorial.md  \n",
            "   creating: data_directory/Summer-Induction-Assignment-2020-master/Question 4.2/RL PokeBattle/data/\n",
            "  inflating: data_directory/Summer-Induction-Assignment-2020-master/Question 4.2/RL PokeBattle/data/moves.csv  \n",
            "  inflating: data_directory/Summer-Induction-Assignment-2020-master/Question 4.2/RL PokeBattle/data/stats.csv  \n",
            "   creating: data_directory/Summer-Induction-Assignment-2020-master/Question 4.2/RL PokeBattle/pokebattle/\n",
            "  inflating: data_directory/Summer-Induction-Assignment-2020-master/Question 4.2/RL PokeBattle/pokebattle/__init__.py  \n",
            "  inflating: data_directory/Summer-Induction-Assignment-2020-master/Question 4.2/RL PokeBattle/pokebattle/agent.py  \n",
            " extracting: data_directory/Summer-Induction-Assignment-2020-master/Question 4.2/RL PokeBattle/pokebattle/base.py  \n",
            "  inflating: data_directory/Summer-Induction-Assignment-2020-master/Question 4.2/RL PokeBattle/pokebattle/manager.py  \n",
            "  inflating: data_directory/Summer-Induction-Assignment-2020-master/Question 4.2/RL PokeBattle/pokebattle/opponent.py  \n",
            "  inflating: data_directory/Summer-Induction-Assignment-2020-master/README.md  \n",
            "  inflating: data_directory/Summer-Induction-Assignment-2020-master/SAiDL Summer Assignment 2020.pdf  \n"
          ],
          "name": "stdout"
        }
      ]
    },
    {
      "cell_type": "markdown",
      "metadata": {
        "id": "afTrBMaa_EBn",
        "colab_type": "text"
      },
      "source": [
        "##Importing Libraries"
      ]
    },
    {
      "cell_type": "code",
      "metadata": {
        "id": "7aovYXUm_H36",
        "colab_type": "code",
        "colab": {}
      },
      "source": [
        "import numpy as np\n",
        "import pandas as pd\n",
        "import torch\n",
        "import transformers\n",
        "from torch.utils.data import Dataset, DataLoader\n",
        "from transformers import DistilBertModel, DistilBertTokenizer, DistilBertConfig\n",
        "from sklearn.metrics import f1_score\n",
        "import seaborn as sns\n",
        "import matplotlib.pyplot as plt"
      ],
      "execution_count": 157,
      "outputs": []
    },
    {
      "cell_type": "markdown",
      "metadata": {
        "id": "XwfLG89_8Oag",
        "colab_type": "text"
      },
      "source": [
        "##Taking Care of system logistics"
      ]
    },
    {
      "cell_type": "code",
      "metadata": {
        "id": "0ZNQhnUFjaTy",
        "colab_type": "code",
        "colab": {}
      },
      "source": [
        "#Disabling warnings. This is to prevent unnecessary printing of lines which leads to wastage of RAM\n",
        "\n",
        "import logging\n",
        "logging.basicConfig(level=logging.ERROR)"
      ],
      "execution_count": 5,
      "outputs": []
    },
    {
      "cell_type": "code",
      "metadata": {
        "id": "l96cO3SK_LNo",
        "colab_type": "code",
        "colab": {}
      },
      "source": [
        "#Setting up the device\n",
        "from torch import cuda\n",
        "device = 'cuda:0' if cuda.is_available() else 'cpu'"
      ],
      "execution_count": 6,
      "outputs": []
    },
    {
      "cell_type": "code",
      "metadata": {
        "id": "QrdxOs2f_lGK",
        "colab_type": "code",
        "colab": {
          "base_uri": "https://localhost:8080/",
          "height": 35
        },
        "outputId": "f3589527-cb55-4c86-8c36-f8bb9f41ab9f"
      },
      "source": [
        "print(device)"
      ],
      "execution_count": 7,
      "outputs": [
        {
          "output_type": "stream",
          "text": [
            "cuda:0\n"
          ],
          "name": "stdout"
        }
      ]
    },
    {
      "cell_type": "markdown",
      "metadata": {
        "id": "KBI7heAX8iAX",
        "colab_type": "text"
      },
      "source": [
        "##Loading Data and creating the dataset"
      ]
    },
    {
      "cell_type": "markdown",
      "metadata": {
        "id": "oVDovOcVDPH4",
        "colab_type": "text"
      },
      "source": [
        "We will assume that Flair is decided by considering the title+post as the complete content. Thus, we need to concatentate the title and post coloumns as 'Content' in our model. We then set Content as type(str) and Flair as type(int)"
      ]
    },
    {
      "cell_type": "code",
      "metadata": {
        "id": "mu9dhii-AHJH",
        "colab_type": "code",
        "colab": {}
      },
      "source": [
        "# Import the csv into pandas dataframe and add the headers\n",
        "train_df = pd.read_csv('data_directory/Summer-Induction-Assignment-2020-master/Question 4.2/NLP Data/data/train.csv')\n",
        "\n",
        "val_df = pd.read_csv('data_directory/Summer-Induction-Assignment-2020-master/Question 4.2/NLP Data/data/val.csv')\n",
        "\n",
        "train_df['Content'] = train_df['Title'].str.cat(train_df['Post'], sep = \" \")\n",
        "train_df = train_df.drop(['Title','Post'],axis=1).astype(str)\n",
        "#print(train_df['Content'].head())\n",
        "val_df['Content'] = val_df['Title'].str.cat(val_df['Post'], sep = \" \")\n",
        "val_df = val_df.drop(['Title','Post'],axis=1).astype(str)\n",
        "\n",
        "\n",
        "train_df['Content'] = train_df['Content'].apply(lambda x: x.replace('\\\\', ' '))\n",
        "val_df['Content'] = val_df['Content'].apply(lambda x: x.replace('\\\\', ' '))\n",
        "\n",
        "train_df['Flair'] = train_df['Flair'].astype(int)\n",
        "val_df['Flair'] = val_df['Flair'].astype(int)\n"
      ],
      "execution_count": 8,
      "outputs": []
    },
    {
      "cell_type": "code",
      "metadata": {
        "id": "IcpOMMb_B2OE",
        "colab_type": "code",
        "colab": {
          "base_uri": "https://localhost:8080/",
          "height": 202
        },
        "outputId": "d3a2bcf3-6bea-4a27-d999-d2cff7aca74a"
      },
      "source": [
        "train_df.head()"
      ],
      "execution_count": 9,
      "outputs": [
        {
          "output_type": "execute_result",
          "data": {
            "text/html": [
              "<div>\n",
              "<style scoped>\n",
              "    .dataframe tbody tr th:only-of-type {\n",
              "        vertical-align: middle;\n",
              "    }\n",
              "\n",
              "    .dataframe tbody tr th {\n",
              "        vertical-align: top;\n",
              "    }\n",
              "\n",
              "    .dataframe thead th {\n",
              "        text-align: right;\n",
              "    }\n",
              "</style>\n",
              "<table border=\"1\" class=\"dataframe\">\n",
              "  <thead>\n",
              "    <tr style=\"text-align: right;\">\n",
              "      <th></th>\n",
              "      <th>Flair</th>\n",
              "      <th>Content</th>\n",
              "    </tr>\n",
              "  </thead>\n",
              "  <tbody>\n",
              "    <tr>\n",
              "      <th>0</th>\n",
              "      <td>10</td>\n",
              "      <td>netflix the family has been an amazing watch d...</td>\n",
              "    </tr>\n",
              "    <tr>\n",
              "      <th>1</th>\n",
              "      <td>0</td>\n",
              "      <td>all results are out is iiitm gwalior it branch...</td>\n",
              "    </tr>\n",
              "    <tr>\n",
              "      <th>2</th>\n",
              "      <td>0</td>\n",
              "      <td>which are the things you always buy made in in...</td>\n",
              "    </tr>\n",
              "    <tr>\n",
              "      <th>3</th>\n",
              "      <td>11</td>\n",
              "      <td>weekly coders hackers amp all tech related thr...</td>\n",
              "    </tr>\n",
              "    <tr>\n",
              "      <th>4</th>\n",
              "      <td>0</td>\n",
              "      <td>what are some good unknown companies to work a...</td>\n",
              "    </tr>\n",
              "  </tbody>\n",
              "</table>\n",
              "</div>"
            ],
            "text/plain": [
              "   Flair                                            Content\n",
              "0     10  netflix the family has been an amazing watch d...\n",
              "1      0  all results are out is iiitm gwalior it branch...\n",
              "2      0  which are the things you always buy made in in...\n",
              "3     11  weekly coders hackers amp all tech related thr...\n",
              "4      0  what are some good unknown companies to work a..."
            ]
          },
          "metadata": {
            "tags": []
          },
          "execution_count": 9
        }
      ]
    },
    {
      "cell_type": "code",
      "metadata": {
        "id": "ENaabmjKB4Ss",
        "colab_type": "code",
        "colab": {
          "base_uri": "https://localhost:8080/",
          "height": 202
        },
        "outputId": "62fd3cd0-c72e-43ff-e9ae-5507dc2f19bd"
      },
      "source": [
        "val_df.head()"
      ],
      "execution_count": 10,
      "outputs": [
        {
          "output_type": "execute_result",
          "data": {
            "text/html": [
              "<div>\n",
              "<style scoped>\n",
              "    .dataframe tbody tr th:only-of-type {\n",
              "        vertical-align: middle;\n",
              "    }\n",
              "\n",
              "    .dataframe tbody tr th {\n",
              "        vertical-align: top;\n",
              "    }\n",
              "\n",
              "    .dataframe thead th {\n",
              "        text-align: right;\n",
              "    }\n",
              "</style>\n",
              "<table border=\"1\" class=\"dataframe\">\n",
              "  <thead>\n",
              "    <tr style=\"text-align: right;\">\n",
              "      <th></th>\n",
              "      <th>Flair</th>\n",
              "      <th>Content</th>\n",
              "    </tr>\n",
              "  </thead>\n",
              "  <tbody>\n",
              "    <tr>\n",
              "      <th>0</th>\n",
              "      <td>0</td>\n",
              "      <td>travelling outside india for the first time be...</td>\n",
              "    </tr>\n",
              "    <tr>\n",
              "      <th>1</th>\n",
              "      <td>10</td>\n",
              "      <td>i am an american traveling to pune for work th...</td>\n",
              "    </tr>\n",
              "    <tr>\n",
              "      <th>2</th>\n",
              "      <td>7</td>\n",
              "      <td>roasting channels vs reaction channels why do ...</td>\n",
              "    </tr>\n",
              "    <tr>\n",
              "      <th>3</th>\n",
              "      <td>10</td>\n",
              "      <td>how the fake dadasaheb phalke awards game the ...</td>\n",
              "    </tr>\n",
              "    <tr>\n",
              "      <th>4</th>\n",
              "      <td>10</td>\n",
              "      <td>today congress has been greatly weakened or be...</td>\n",
              "    </tr>\n",
              "  </tbody>\n",
              "</table>\n",
              "</div>"
            ],
            "text/plain": [
              "   Flair                                            Content\n",
              "0      0  travelling outside india for the first time be...\n",
              "1     10  i am an american traveling to pune for work th...\n",
              "2      7  roasting channels vs reaction channels why do ...\n",
              "3     10  how the fake dadasaheb phalke awards game the ...\n",
              "4     10  today congress has been greatly weakened or be..."
            ]
          },
          "metadata": {
            "tags": []
          },
          "execution_count": 10
        }
      ]
    },
    {
      "cell_type": "code",
      "metadata": {
        "id": "BdBUjC99B7Z5",
        "colab_type": "code",
        "colab": {
          "base_uri": "https://localhost:8080/",
          "height": 67,
          "referenced_widgets": [
            "3b28849db4a74bae9c5e95f0a46c71e3",
            "7c3ad189e1464f9a969cddb3194c2a65",
            "5264e3f15ef64251965bc15d39c6cd02",
            "5b58420b65ce4a57ac55844a0d66e72c",
            "c1e09c223af14fc78a6a54dba6797014",
            "7a5d535bdaeb47afb6fb15a904e57130",
            "ae36553dc6d744a4b42ebc14eb981793",
            "2008363f1df5478491ab6348eb477e3b"
          ]
        },
        "outputId": "529263b8-ca0c-4144-e925-a6551c2a8a63"
      },
      "source": [
        "# Defining some key variables that will be used later on in the training\n",
        "MAX_LEN = 128\n",
        "TRAIN_BATCH_SIZE = 3\n",
        "VALID_BATCH_SIZE = 1\n",
        "EPOCHS = 1\n",
        "LEARNING_RATE = 1e-05\n",
        "tokenizer = DistilBertTokenizer.from_pretrained('distilbert-base-cased')"
      ],
      "execution_count": 11,
      "outputs": [
        {
          "output_type": "display_data",
          "data": {
            "application/vnd.jupyter.widget-view+json": {
              "model_id": "3b28849db4a74bae9c5e95f0a46c71e3",
              "version_minor": 0,
              "version_major": 2
            },
            "text/plain": [
              "HBox(children=(FloatProgress(value=0.0, description='Downloading', max=213450.0, style=ProgressStyle(descripti…"
            ]
          },
          "metadata": {
            "tags": []
          }
        },
        {
          "output_type": "stream",
          "text": [
            "\n"
          ],
          "name": "stdout"
        }
      ]
    },
    {
      "cell_type": "code",
      "metadata": {
        "id": "Cn2OtWpoCDci",
        "colab_type": "code",
        "colab": {}
      },
      "source": [
        "class Triage(Dataset):\n",
        "    def __init__(self, dataframe, tokenizer, max_len):\n",
        "        self.len = len(dataframe)\n",
        "        self.data = dataframe\n",
        "        self.tokenizer = tokenizer\n",
        "        self.max_len = max_len\n",
        "        \n",
        "    def __getitem__(self, index):\n",
        "        content = str(self.data.Content[index])\n",
        "        content = \" \".join(content.split())\n",
        "        inputs = self.tokenizer.encode_plus(\n",
        "            content,\n",
        "            None,\n",
        "            add_special_tokens=True,\n",
        "            max_length=self.max_len,\n",
        "            pad_to_max_length=True,\n",
        "            return_token_type_ids=True\n",
        "        )\n",
        "        ids = inputs['input_ids']\n",
        "        mask = inputs['attention_mask']\n",
        "\n",
        "        return {\n",
        "            'ids': torch.tensor(ids, dtype=torch.long),\n",
        "            'mask': torch.tensor(mask, dtype=torch.long),\n",
        "            'targets': torch.tensor(self.data.Flair[index], dtype=torch.long)\n",
        "        } \n",
        "    \n",
        "    def __len__(self):\n",
        "        return self.len"
      ],
      "execution_count": 12,
      "outputs": []
    },
    {
      "cell_type": "code",
      "metadata": {
        "id": "GL7J7KZsCVlQ",
        "colab_type": "code",
        "colab": {
          "base_uri": "https://localhost:8080/",
          "height": 52
        },
        "outputId": "51096aa4-1da1-4635-ecc2-3f15f4d77eb2"
      },
      "source": [
        "# Creating the dataset and dataloader for the neural network\n",
        "\n",
        "print(\"TRAIN Dataset: {}\".format(train_df.shape))\n",
        "print(\"VALIDATION Dataset: {}\".format(val_df.shape))\n",
        "\n",
        "training_set = Triage(train_df, tokenizer, MAX_LEN)\n",
        "validation_set = Triage(val_df, tokenizer, MAX_LEN)"
      ],
      "execution_count": 13,
      "outputs": [
        {
          "output_type": "stream",
          "text": [
            "TRAIN Dataset: (36547, 2)\n",
            "VALIDATION Dataset: (9001, 2)\n"
          ],
          "name": "stdout"
        }
      ]
    },
    {
      "cell_type": "code",
      "metadata": {
        "id": "qmJtt4h9CykQ",
        "colab_type": "code",
        "colab": {}
      },
      "source": [
        "train_params = {'batch_size': TRAIN_BATCH_SIZE,\n",
        "                'shuffle': True,\n",
        "                'num_workers': 0\n",
        "                }\n",
        "\n",
        "val_params = {'batch_size': VALID_BATCH_SIZE,\n",
        "                'shuffle': True,\n",
        "                'num_workers': 0\n",
        "                }\n",
        "\n",
        "training_loader = DataLoader(training_set, **train_params)\n",
        "validation_loader = DataLoader(validation_set, **val_params)"
      ],
      "execution_count": 14,
      "outputs": []
    },
    {
      "cell_type": "markdown",
      "metadata": {
        "id": "Xaece175DAi0",
        "colab_type": "text"
      },
      "source": [
        "##Creating the neural network"
      ]
    },
    {
      "cell_type": "code",
      "metadata": {
        "id": "smi5MvLhDU8F",
        "colab_type": "code",
        "colab": {}
      },
      "source": [
        "# Creating the customized model, by adding a drop out and a dense layer on top of distil bert to get the final output for the model. \n",
        "\n",
        "class DistillBERTClass(torch.nn.Module):\n",
        "    def __init__(self):\n",
        "        super(DistillBERTClass, self).__init__()\n",
        "        config = DistilBertConfig(output_hidden_states = True ,output_attentions = True)\n",
        "        self.l1 = DistilBertModel.from_pretrained(\"distilbert-base-uncased\", config = config)\n",
        "        self.pre_classifier = torch.nn.Linear(768, 768)\n",
        "        self.dropout = torch.nn.Dropout(0.3)\n",
        "        self.classifier = torch.nn.Linear(768, 15)\n",
        "\n",
        "    def forward(self, input_ids, attention_mask):\n",
        "        output_1 = self.l1(input_ids=input_ids, attention_mask=attention_mask)\n",
        "        hidden_state = output_1[0]\n",
        "        pooler = hidden_state[:, 0]\n",
        "        pooler = self.pre_classifier(pooler)\n",
        "        pooler = torch.nn.ReLU()(pooler)\n",
        "        pooler = self.dropout(pooler)\n",
        "        output = self.classifier(pooler)\n",
        "        return output\n",
        "\n",
        "    def get_attention(self,input_ids, attention_mask):\n",
        "      output_1 = self.l1(input_ids=input_ids, attention_mask=attention_mask)\n",
        "      attention = output[2][0][0]\n",
        "      return attention.squeeze(0)[0]"
      ],
      "execution_count": 152,
      "outputs": []
    },
    {
      "cell_type": "code",
      "metadata": {
        "id": "1HO1OFJ1DmfA",
        "colab_type": "code",
        "colab": {
          "base_uri": "https://localhost:8080/",
          "height": 1000
        },
        "outputId": "4fabf035-944b-4e67-cecd-84823ffbe7df"
      },
      "source": [
        "model = DistillBERTClass()\n",
        "model.to(device)"
      ],
      "execution_count": 153,
      "outputs": [
        {
          "output_type": "execute_result",
          "data": {
            "text/plain": [
              "DistillBERTClass(\n",
              "  (l1): DistilBertModel(\n",
              "    (embeddings): Embeddings(\n",
              "      (word_embeddings): Embedding(30522, 768, padding_idx=0)\n",
              "      (position_embeddings): Embedding(512, 768)\n",
              "      (LayerNorm): LayerNorm((768,), eps=1e-12, elementwise_affine=True)\n",
              "      (dropout): Dropout(p=0.1, inplace=False)\n",
              "    )\n",
              "    (transformer): Transformer(\n",
              "      (layer): ModuleList(\n",
              "        (0): TransformerBlock(\n",
              "          (attention): MultiHeadSelfAttention(\n",
              "            (dropout): Dropout(p=0.1, inplace=False)\n",
              "            (q_lin): Linear(in_features=768, out_features=768, bias=True)\n",
              "            (k_lin): Linear(in_features=768, out_features=768, bias=True)\n",
              "            (v_lin): Linear(in_features=768, out_features=768, bias=True)\n",
              "            (out_lin): Linear(in_features=768, out_features=768, bias=True)\n",
              "          )\n",
              "          (sa_layer_norm): LayerNorm((768,), eps=1e-12, elementwise_affine=True)\n",
              "          (ffn): FFN(\n",
              "            (dropout): Dropout(p=0.1, inplace=False)\n",
              "            (lin1): Linear(in_features=768, out_features=3072, bias=True)\n",
              "            (lin2): Linear(in_features=3072, out_features=768, bias=True)\n",
              "          )\n",
              "          (output_layer_norm): LayerNorm((768,), eps=1e-12, elementwise_affine=True)\n",
              "        )\n",
              "        (1): TransformerBlock(\n",
              "          (attention): MultiHeadSelfAttention(\n",
              "            (dropout): Dropout(p=0.1, inplace=False)\n",
              "            (q_lin): Linear(in_features=768, out_features=768, bias=True)\n",
              "            (k_lin): Linear(in_features=768, out_features=768, bias=True)\n",
              "            (v_lin): Linear(in_features=768, out_features=768, bias=True)\n",
              "            (out_lin): Linear(in_features=768, out_features=768, bias=True)\n",
              "          )\n",
              "          (sa_layer_norm): LayerNorm((768,), eps=1e-12, elementwise_affine=True)\n",
              "          (ffn): FFN(\n",
              "            (dropout): Dropout(p=0.1, inplace=False)\n",
              "            (lin1): Linear(in_features=768, out_features=3072, bias=True)\n",
              "            (lin2): Linear(in_features=3072, out_features=768, bias=True)\n",
              "          )\n",
              "          (output_layer_norm): LayerNorm((768,), eps=1e-12, elementwise_affine=True)\n",
              "        )\n",
              "        (2): TransformerBlock(\n",
              "          (attention): MultiHeadSelfAttention(\n",
              "            (dropout): Dropout(p=0.1, inplace=False)\n",
              "            (q_lin): Linear(in_features=768, out_features=768, bias=True)\n",
              "            (k_lin): Linear(in_features=768, out_features=768, bias=True)\n",
              "            (v_lin): Linear(in_features=768, out_features=768, bias=True)\n",
              "            (out_lin): Linear(in_features=768, out_features=768, bias=True)\n",
              "          )\n",
              "          (sa_layer_norm): LayerNorm((768,), eps=1e-12, elementwise_affine=True)\n",
              "          (ffn): FFN(\n",
              "            (dropout): Dropout(p=0.1, inplace=False)\n",
              "            (lin1): Linear(in_features=768, out_features=3072, bias=True)\n",
              "            (lin2): Linear(in_features=3072, out_features=768, bias=True)\n",
              "          )\n",
              "          (output_layer_norm): LayerNorm((768,), eps=1e-12, elementwise_affine=True)\n",
              "        )\n",
              "        (3): TransformerBlock(\n",
              "          (attention): MultiHeadSelfAttention(\n",
              "            (dropout): Dropout(p=0.1, inplace=False)\n",
              "            (q_lin): Linear(in_features=768, out_features=768, bias=True)\n",
              "            (k_lin): Linear(in_features=768, out_features=768, bias=True)\n",
              "            (v_lin): Linear(in_features=768, out_features=768, bias=True)\n",
              "            (out_lin): Linear(in_features=768, out_features=768, bias=True)\n",
              "          )\n",
              "          (sa_layer_norm): LayerNorm((768,), eps=1e-12, elementwise_affine=True)\n",
              "          (ffn): FFN(\n",
              "            (dropout): Dropout(p=0.1, inplace=False)\n",
              "            (lin1): Linear(in_features=768, out_features=3072, bias=True)\n",
              "            (lin2): Linear(in_features=3072, out_features=768, bias=True)\n",
              "          )\n",
              "          (output_layer_norm): LayerNorm((768,), eps=1e-12, elementwise_affine=True)\n",
              "        )\n",
              "        (4): TransformerBlock(\n",
              "          (attention): MultiHeadSelfAttention(\n",
              "            (dropout): Dropout(p=0.1, inplace=False)\n",
              "            (q_lin): Linear(in_features=768, out_features=768, bias=True)\n",
              "            (k_lin): Linear(in_features=768, out_features=768, bias=True)\n",
              "            (v_lin): Linear(in_features=768, out_features=768, bias=True)\n",
              "            (out_lin): Linear(in_features=768, out_features=768, bias=True)\n",
              "          )\n",
              "          (sa_layer_norm): LayerNorm((768,), eps=1e-12, elementwise_affine=True)\n",
              "          (ffn): FFN(\n",
              "            (dropout): Dropout(p=0.1, inplace=False)\n",
              "            (lin1): Linear(in_features=768, out_features=3072, bias=True)\n",
              "            (lin2): Linear(in_features=3072, out_features=768, bias=True)\n",
              "          )\n",
              "          (output_layer_norm): LayerNorm((768,), eps=1e-12, elementwise_affine=True)\n",
              "        )\n",
              "        (5): TransformerBlock(\n",
              "          (attention): MultiHeadSelfAttention(\n",
              "            (dropout): Dropout(p=0.1, inplace=False)\n",
              "            (q_lin): Linear(in_features=768, out_features=768, bias=True)\n",
              "            (k_lin): Linear(in_features=768, out_features=768, bias=True)\n",
              "            (v_lin): Linear(in_features=768, out_features=768, bias=True)\n",
              "            (out_lin): Linear(in_features=768, out_features=768, bias=True)\n",
              "          )\n",
              "          (sa_layer_norm): LayerNorm((768,), eps=1e-12, elementwise_affine=True)\n",
              "          (ffn): FFN(\n",
              "            (dropout): Dropout(p=0.1, inplace=False)\n",
              "            (lin1): Linear(in_features=768, out_features=3072, bias=True)\n",
              "            (lin2): Linear(in_features=3072, out_features=768, bias=True)\n",
              "          )\n",
              "          (output_layer_norm): LayerNorm((768,), eps=1e-12, elementwise_affine=True)\n",
              "        )\n",
              "      )\n",
              "    )\n",
              "  )\n",
              "  (pre_classifier): Linear(in_features=768, out_features=768, bias=True)\n",
              "  (dropout): Dropout(p=0.3, inplace=False)\n",
              "  (classifier): Linear(in_features=768, out_features=15, bias=True)\n",
              ")"
            ]
          },
          "metadata": {
            "tags": []
          },
          "execution_count": 153
        }
      ]
    },
    {
      "cell_type": "markdown",
      "metadata": {
        "id": "22ZktHRk9Xja",
        "colab_type": "text"
      },
      "source": [
        "##Training the neural network"
      ]
    },
    {
      "cell_type": "code",
      "metadata": {
        "id": "afEAUlOvD2t1",
        "colab_type": "code",
        "colab": {}
      },
      "source": [
        "# Creating the loss function and optimizer\n",
        "loss_function = torch.nn.CrossEntropyLoss()\n",
        "optimizer = torch.optim.Adam(params =  model.parameters(), lr=LEARNING_RATE)"
      ],
      "execution_count": 163,
      "outputs": []
    },
    {
      "cell_type": "code",
      "metadata": {
        "id": "3aQBujeAD9Ra",
        "colab_type": "code",
        "colab": {}
      },
      "source": [
        "# Calculating the F1 micro score\n",
        "def calcuate_accu_micro(big_idx, targets):\n",
        "  targets_cpu = targets.cpu()\n",
        "  big_idx_cpu = big_idx.cpu()\n",
        "  return torch.tensor(f1_score(targets_cpu.cpu(), big_idx_cpu.cpu(), average='micro'))"
      ],
      "execution_count": 164,
      "outputs": []
    },
    {
      "cell_type": "code",
      "metadata": {
        "id": "_KprLmt9Eh2X",
        "colab_type": "code",
        "colab": {}
      },
      "source": [
        "# Calculating the F1 macro score\n",
        "def calcuate_accu_macro(big_idx, targets):\n",
        "  targets_cpu = targets.cpu()\n",
        "  big_idx_cpu = big_idx.cpu()\n",
        "  return torch.tensor(f1_score(targets_cpu.cpu(), big_idx_cpu.cpu(), average='macro'))"
      ],
      "execution_count": 165,
      "outputs": []
    },
    {
      "cell_type": "code",
      "metadata": {
        "id": "rHt7FQ5TEq9n",
        "colab_type": "code",
        "colab": {}
      },
      "source": [
        "# Defining the training function \n",
        "\n",
        "def train(epoch):\n",
        "  \n",
        "    sum_loss = 0\n",
        "    total = 0\n",
        "\n",
        "    model.train()\n",
        "    for _,data in enumerate(training_loader, 0):\n",
        "        ids = data['ids'].to(device, dtype = torch.long)\n",
        "        mask = data['mask'].to(device, dtype = torch.long)\n",
        "        targets = data['targets'].to(device, dtype = torch.long)\n",
        "\n",
        "        outputs = model(ids, mask)\n",
        "        loss = loss_function(outputs, targets)\n",
        "        sum_loss += loss.item()*targets.shape[0]\n",
        "        total += targets.shape[0]\n",
        "        big_val, big_idx = torch.max(outputs.data, dim=1)\n",
        "\n",
        "        optimizer.zero_grad()\n",
        "        loss.backward()\n",
        "        \n",
        "        optimizer.step()\n",
        "\n",
        "        if _ % 500 == 1:\n",
        "          val_loss, val_acc, val_f1_micro, val_f1_macro = validation_metrics(model, validation_loader)\n",
        "          print(\"train loss %.3f, val loss %.3f, val accuracy %.3f, val f1 micro %.3f and val f1 macro %.3f\" % (sum_loss/total, val_loss, val_acc, val_f1_micro,val_f1_macro))\n",
        "\n",
        "    return \n",
        "\n",
        "def validation_metrics (model, valid_dl):\n",
        "    model.eval()\n",
        "    correct = 0\n",
        "    total = 0\n",
        "    sum_loss = 0.0\n",
        "    sum_f1_micro = 0.0\n",
        "    sum_f1_macro = 0.0\n",
        "    for  _,data in enumerate(valid_dl,0):\n",
        "\n",
        "        ids = data['ids'].to(device, dtype = torch.long)\n",
        "        mask = data['mask'].to(device, dtype = torch.long)\n",
        "        targets = data['targets'].to(device, dtype = torch.long)\n",
        "        \n",
        "        outputs = model(ids, mask)\n",
        "        loss = loss_function(outputs, targets)\n",
        "\n",
        "        big_val, big_idx = torch.max(outputs.data, dim=1)\n",
        "        correct += (big_idx == targets).float().sum()\n",
        "        total += targets.shape[0]\n",
        "\n",
        "        sum_loss += loss.item()*targets.shape[0]\n",
        "\n",
        "        sum_f1_micro += (calcuate_accu_micro(big_idx, targets))*targets.shape[0]\n",
        "        sum_f1_macro += (calcuate_accu_macro(big_idx, targets))*targets.shape[0]\n",
        "    return sum_loss/total, correct/total, sum_f1_micro/total, sum_f1_macro/total"
      ],
      "execution_count": 166,
      "outputs": []
    },
    {
      "cell_type": "code",
      "metadata": {
        "id": "OQSy1_HSG_FV",
        "colab_type": "code",
        "colab": {
          "base_uri": "https://localhost:8080/",
          "height": 451
        },
        "outputId": "6aa39c2a-8e68-4b8c-c962-b34586dfbe47"
      },
      "source": [
        "#Training\n",
        "\n",
        "for epoch in range(EPOCHS):\n",
        "    train(epoch)"
      ],
      "execution_count": 167,
      "outputs": [
        {
          "output_type": "stream",
          "text": [
            "train loss 2.709, val loss 2.675, val accuracy 0.334, val f1 micro 0.334 and val f1 macro 0.334\n",
            "train loss 1.766, val loss 1.673, val accuracy 0.467, val f1 micro 0.467 and val f1 macro 0.467\n",
            "train loss 1.695, val loss 1.590, val accuracy 0.483, val f1 micro 0.483 and val f1 macro 0.483\n",
            "train loss 1.664, val loss 1.533, val accuracy 0.533, val f1 micro 0.533 and val f1 macro 0.533\n",
            "train loss 1.627, val loss 1.510, val accuracy 0.545, val f1 micro 0.545 and val f1 macro 0.545\n",
            "train loss 1.600, val loss 1.475, val accuracy 0.551, val f1 micro 0.551 and val f1 macro 0.551\n",
            "train loss 1.582, val loss 1.463, val accuracy 0.545, val f1 micro 0.545 and val f1 macro 0.545\n",
            "train loss 1.562, val loss 1.453, val accuracy 0.563, val f1 micro 0.563 and val f1 macro 0.563\n",
            "train loss 1.543, val loss 1.427, val accuracy 0.564, val f1 micro 0.564 and val f1 macro 0.564\n",
            "train loss 1.526, val loss 1.381, val accuracy 0.581, val f1 micro 0.581 and val f1 macro 0.581\n",
            "train loss 1.512, val loss 1.383, val accuracy 0.579, val f1 micro 0.579 and val f1 macro 0.579\n",
            "train loss 1.500, val loss 1.396, val accuracy 0.560, val f1 micro 0.560 and val f1 macro 0.560\n",
            "train loss 1.492, val loss 1.363, val accuracy 0.586, val f1 micro 0.586 and val f1 macro 0.586\n",
            "train loss 1.481, val loss 1.352, val accuracy 0.592, val f1 micro 0.592 and val f1 macro 0.592\n",
            "train loss 1.474, val loss 1.353, val accuracy 0.578, val f1 micro 0.578 and val f1 macro 0.578\n",
            "train loss 1.465, val loss 1.331, val accuracy 0.594, val f1 micro 0.594 and val f1 macro 0.594\n",
            "train loss 1.454, val loss 1.332, val accuracy 0.591, val f1 micro 0.591 and val f1 macro 0.591\n",
            "train loss 1.447, val loss 1.311, val accuracy 0.602, val f1 micro 0.602 and val f1 macro 0.602\n",
            "train loss 1.440, val loss 1.311, val accuracy 0.600, val f1 micro 0.600 and val f1 macro 0.600\n",
            "train loss 1.432, val loss 1.316, val accuracy 0.594, val f1 micro 0.594 and val f1 macro 0.594\n",
            "train loss 1.427, val loss 1.360, val accuracy 0.580, val f1 micro 0.580 and val f1 macro 0.580\n",
            "train loss 1.420, val loss 1.305, val accuracy 0.596, val f1 micro 0.596 and val f1 macro 0.596\n",
            "train loss 1.415, val loss 1.294, val accuracy 0.601, val f1 micro 0.601 and val f1 macro 0.601\n",
            "train loss 1.411, val loss 1.295, val accuracy 0.602, val f1 micro 0.602 and val f1 macro 0.602\n",
            "train loss 1.406, val loss 1.285, val accuracy 0.609, val f1 micro 0.609 and val f1 macro 0.609\n"
          ],
          "name": "stdout"
        }
      ]
    },
    {
      "cell_type": "markdown",
      "metadata": {
        "id": "kgNLJ3k4OzGP",
        "colab_type": "text"
      },
      "source": [
        "Val f1 micro score - 0.609\n",
        "\n",
        "Val f1 macro score - 0.609"
      ]
    },
    {
      "cell_type": "markdown",
      "metadata": {
        "id": "iAAxCm4B9fm5",
        "colab_type": "text"
      },
      "source": [
        "## Saving/Reloading the model"
      ]
    },
    {
      "cell_type": "code",
      "metadata": {
        "id": "vQI-9wfer9rU",
        "colab_type": "code",
        "colab": {
          "base_uri": "https://localhost:8080/",
          "height": 35
        },
        "outputId": "e8f50dbd-fd5f-4be4-cc37-10c1615fd33e"
      },
      "source": [
        "# Saving the files for re-use\n",
        "\n",
        "output_model_file = './models/pytorch_distilbert_news.bin'\n",
        "output_vocab_file = './models/vocab_distilbert_news.bin'\n",
        "\n",
        "model_to_save = model\n",
        "torch.save(model_to_save, output_model_file)\n",
        "tokenizer.save_vocabulary(output_vocab_file)\n",
        "\n",
        "print('All files saved')"
      ],
      "execution_count": 168,
      "outputs": [
        {
          "output_type": "stream",
          "text": [
            "All files saved\n"
          ],
          "name": "stdout"
        }
      ]
    },
    {
      "cell_type": "code",
      "metadata": {
        "id": "s_SKk7lIG9JC",
        "colab_type": "code",
        "colab": {
          "base_uri": "https://localhost:8080/",
          "height": 69
        },
        "outputId": "9bf2bfe4-3477-4573-d3f3-a0b0ffa5ad56"
      },
      "source": [
        "!zip -r /content/models.zip /content/models\n",
        "\n",
        "from google.colab import files\n",
        "files.download(\"/content/models.zip\")"
      ],
      "execution_count": 172,
      "outputs": [
        {
          "output_type": "stream",
          "text": [
            "  adding: content/models/ (stored 0%)\n",
            "  adding: content/models/vocab_distilbert_news.bin (deflated 49%)\n",
            "  adding: content/models/pytorch_distilbert_news.bin (deflated 8%)\n"
          ],
          "name": "stdout"
        },
        {
          "output_type": "display_data",
          "data": {
            "application/javascript": [
              "\n",
              "    async function download(id, filename, size) {\n",
              "      if (!google.colab.kernel.accessAllowed) {\n",
              "        return;\n",
              "      }\n",
              "      const div = document.createElement('div');\n",
              "      const label = document.createElement('label');\n",
              "      label.textContent = `Downloading \"${filename}\": `;\n",
              "      div.appendChild(label);\n",
              "      const progress = document.createElement('progress');\n",
              "      progress.max = size;\n",
              "      div.appendChild(progress);\n",
              "      document.body.appendChild(div);\n",
              "\n",
              "      const buffers = [];\n",
              "      let downloaded = 0;\n",
              "\n",
              "      const channel = await google.colab.kernel.comms.open(id);\n",
              "      // Send a message to notify the kernel that we're ready.\n",
              "      channel.send({})\n",
              "\n",
              "      for await (const message of channel.messages) {\n",
              "        // Send a message to notify the kernel that we're ready.\n",
              "        channel.send({})\n",
              "        if (message.buffers) {\n",
              "          for (const buffer of message.buffers) {\n",
              "            buffers.push(buffer);\n",
              "            downloaded += buffer.byteLength;\n",
              "            progress.value = downloaded;\n",
              "          }\n",
              "        }\n",
              "      }\n",
              "      const blob = new Blob(buffers, {type: 'application/binary'});\n",
              "      const a = document.createElement('a');\n",
              "      a.href = window.URL.createObjectURL(blob);\n",
              "      a.download = filename;\n",
              "      div.appendChild(a);\n",
              "      a.click();\n",
              "      div.remove();\n",
              "    }\n",
              "  "
            ],
            "text/plain": [
              "<IPython.core.display.Javascript object>"
            ]
          },
          "metadata": {
            "tags": []
          }
        },
        {
          "output_type": "display_data",
          "data": {
            "application/javascript": [
              "download(\"download_850c19fb-09c9-441f-a7da-9b4207c37680\", \"models.zip\", 246927787)"
            ],
            "text/plain": [
              "<IPython.core.display.Javascript object>"
            ]
          },
          "metadata": {
            "tags": []
          }
        }
      ]
    },
    {
      "cell_type": "code",
      "metadata": {
        "id": "b1q2xzsSSu21",
        "colab_type": "code",
        "colab": {}
      },
      "source": [
        "# Reloading the saved model\n",
        "\n",
        "model = torch.load(output_model_file)"
      ],
      "execution_count": null,
      "outputs": []
    },
    {
      "cell_type": "markdown",
      "metadata": {
        "id": "f5i1Etz99qC0",
        "colab_type": "text"
      },
      "source": [
        "## Visualizing the attention weights"
      ]
    },
    {
      "cell_type": "code",
      "metadata": {
        "id": "ljJClblSstOJ",
        "colab_type": "code",
        "colab": {
          "base_uri": "https://localhost:8080/",
          "height": 159
        },
        "outputId": "36a348b5-c478-4420-abb2-78d8e3f73231"
      },
      "source": [
        "dataiter =  iter(validation_loader)\n",
        "data = dataiter.next()\n",
        "\n",
        "ids = torch.tensor(data['ids']).to(device)\n",
        "mask = torch.tensor(data['mask']).to(device)\n",
        "print(model(ids,mask))"
      ],
      "execution_count": 169,
      "outputs": [
        {
          "output_type": "stream",
          "text": [
            "tensor([[ 3.8116,  0.8209, -3.0468, -2.0901, -0.4731, -1.6371, -0.3517,  2.9455,\n",
            "         -2.3004, -0.8704, -0.4374, -2.3882,  0.3521, -1.5496,  0.6789]],\n",
            "       device='cuda:0', grad_fn=<AddmmBackward>)\n"
          ],
          "name": "stdout"
        },
        {
          "output_type": "stream",
          "text": [
            "/usr/local/lib/python3.6/dist-packages/ipykernel_launcher.py:4: UserWarning: To copy construct from a tensor, it is recommended to use sourceTensor.clone().detach() or sourceTensor.clone().detach().requires_grad_(True), rather than torch.tensor(sourceTensor).\n",
            "  after removing the cwd from sys.path.\n",
            "/usr/local/lib/python3.6/dist-packages/ipykernel_launcher.py:5: UserWarning: To copy construct from a tensor, it is recommended to use sourceTensor.clone().detach() or sourceTensor.clone().detach().requires_grad_(True), rather than torch.tensor(sourceTensor).\n",
            "  \"\"\"\n"
          ],
          "name": "stderr"
        }
      ]
    },
    {
      "cell_type": "code",
      "metadata": {
        "id": "pEcoOyXgwvK6",
        "colab_type": "code",
        "colab": {
          "base_uri": "https://localhost:8080/",
          "height": 156
        },
        "outputId": "98685524-7446-41ba-b4d7-a930009492d6"
      },
      "source": [
        "# First attention matrix\n",
        "\n",
        "attention = model.get_attention(ids,mask)\n",
        "print(attention)"
      ],
      "execution_count": 170,
      "outputs": [
        {
          "output_type": "stream",
          "text": [
            "tensor([[0.0048, 0.0037, 0.0034,  ..., 0.0109, 0.0074, 0.0261],\n",
            "        [0.0081, 0.0290, 0.0110,  ..., 0.0098, 0.0042, 0.0065],\n",
            "        [0.0203, 0.0200, 0.0076,  ..., 0.0066, 0.0055, 0.0028],\n",
            "        ...,\n",
            "        [0.0052, 0.0073, 0.0034,  ..., 0.0116, 0.0052, 0.0248],\n",
            "        [0.0038, 0.0095, 0.0056,  ..., 0.0139, 0.0033, 0.0218],\n",
            "        [0.0135, 0.0039, 0.0035,  ..., 0.0137, 0.0066, 0.1073]],\n",
            "       device='cuda:0', grad_fn=<SelectBackward>)\n"
          ],
          "name": "stdout"
        }
      ]
    },
    {
      "cell_type": "code",
      "metadata": {
        "id": "MqPrE4V95fLE",
        "colab_type": "code",
        "colab": {
          "base_uri": "https://localhost:8080/",
          "height": 635
        },
        "outputId": "5fb7217c-ce40-4748-f56d-49e58b8578bd"
      },
      "source": [
        "# Plotting heatmap of attention matrix for visualization\n",
        "\n",
        "fig_size=(10,10)\n",
        "fig, ax = plt.subplots(figsize=fig_size) \n",
        "ax = sns.heatmap(attention.cpu().detach().numpy(), annot=False)\n",
        "ax.xaxis.set_ticks_position('top')\n",
        "ax.set_xticklabels(ax.get_xticklabels(), rotation=90)\n",
        "ax.set_title('Visualizing attention weights')"
      ],
      "execution_count": 171,
      "outputs": [
        {
          "output_type": "execute_result",
          "data": {
            "text/plain": [
              "Text(0.5, 1.0, 'Visualizing attention weights')"
            ]
          },
          "metadata": {
            "tags": []
          },
          "execution_count": 171
        },
        {
          "output_type": "display_data",
          "data": {
            "image/png": "[encoded data removed]",
            "text/plain": [
              "<Figure size 720x720 with 2 Axes>"
            ]
          },
          "metadata": {
            "tags": [],
            "needs_background": "light"
          }
        }
      ]
    },
    {
      "cell_type": "markdown",
      "metadata": {
        "id": "Xe_0yLAYGqJ0",
        "colab_type": "text"
      },
      "source": [
        "*Analysis of the attention weights:* \n",
        "\n",
        "As we can see, the attention weights are low in most cases. This indicates that the first attention layer was largely content-independent. However, there are around 3-4 patches of high content-dependency. For example, word 24 depends on word 0, word 6, word 14 etc.\n"
      ]
    },
    {
      "cell_type": "code",
      "metadata": {
        "id": "JlriTiTNIvGu",
        "colab_type": "code",
        "colab": {
          "base_uri": "https://localhost:8080/",
          "height": 159
        },
        "outputId": "7ea3fb1e-2dc4-43c2-e751-f4e5d5578bff"
      },
      "source": [
        "data = dataiter.next()\n",
        "\n",
        "ids = torch.tensor(data['ids']).to(device)\n",
        "mask = torch.tensor(data['mask']).to(device)\n",
        "print(model(ids,mask))"
      ],
      "execution_count": 173,
      "outputs": [
        {
          "output_type": "stream",
          "text": [
            "tensor([[ 2.7653, -1.5118, -0.8543, -0.7685, -0.9375, -1.8957, -1.6314,  0.9181,\n",
            "         -2.6476,  0.5224,  3.9801, -2.4049, -1.3512, -1.5283,  0.5669]],\n",
            "       device='cuda:0', grad_fn=<AddmmBackward>)\n"
          ],
          "name": "stdout"
        },
        {
          "output_type": "stream",
          "text": [
            "/usr/local/lib/python3.6/dist-packages/ipykernel_launcher.py:3: UserWarning: To copy construct from a tensor, it is recommended to use sourceTensor.clone().detach() or sourceTensor.clone().detach().requires_grad_(True), rather than torch.tensor(sourceTensor).\n",
            "  This is separate from the ipykernel package so we can avoid doing imports until\n",
            "/usr/local/lib/python3.6/dist-packages/ipykernel_launcher.py:4: UserWarning: To copy construct from a tensor, it is recommended to use sourceTensor.clone().detach() or sourceTensor.clone().detach().requires_grad_(True), rather than torch.tensor(sourceTensor).\n",
            "  after removing the cwd from sys.path.\n"
          ],
          "name": "stderr"
        }
      ]
    },
    {
      "cell_type": "code",
      "metadata": {
        "id": "SPqndokpIvtl",
        "colab_type": "code",
        "colab": {
          "base_uri": "https://localhost:8080/",
          "height": 156
        },
        "outputId": "19cb2c38-d635-40e3-d601-55bb88d9cfba"
      },
      "source": [
        "# First attention matrix\n",
        "\n",
        "attention = model.get_attention(ids,mask)\n",
        "print(attention)"
      ],
      "execution_count": 174,
      "outputs": [
        {
          "output_type": "stream",
          "text": [
            "tensor([[0.0048, 0.0037, 0.0034,  ..., 0.0109, 0.0074, 0.0261],\n",
            "        [0.0081, 0.0290, 0.0110,  ..., 0.0098, 0.0042, 0.0065],\n",
            "        [0.0203, 0.0200, 0.0076,  ..., 0.0066, 0.0055, 0.0028],\n",
            "        ...,\n",
            "        [0.0052, 0.0073, 0.0034,  ..., 0.0116, 0.0052, 0.0248],\n",
            "        [0.0038, 0.0095, 0.0056,  ..., 0.0139, 0.0033, 0.0218],\n",
            "        [0.0135, 0.0039, 0.0035,  ..., 0.0137, 0.0066, 0.1073]],\n",
            "       device='cuda:0', grad_fn=<SelectBackward>)\n"
          ],
          "name": "stdout"
        }
      ]
    },
    {
      "cell_type": "code",
      "metadata": {
        "id": "WHz-rW9sIzZJ",
        "colab_type": "code",
        "colab": {
          "base_uri": "https://localhost:8080/",
          "height": 635
        },
        "outputId": "b5ad7c79-a1cc-4cb9-af2f-16ecf3832e4b"
      },
      "source": [
        "# Plotting heatmap of attention matrix for visualization\n",
        "\n",
        "fig_size=(10,10)\n",
        "fig, ax = plt.subplots(figsize=fig_size) \n",
        "ax = sns.heatmap(attention.cpu().detach().numpy(), annot=False)\n",
        "ax.xaxis.set_ticks_position('top')\n",
        "ax.set_xticklabels(ax.get_xticklabels(), rotation=90)\n",
        "ax.set_title('Visualizing attention weights')"
      ],
      "execution_count": 175,
      "outputs": [
        {
          "output_type": "execute_result",
          "data": {
            "text/plain": [
              "Text(0.5, 1.0, 'Visualizing attention weights')"
            ]
          },
          "metadata": {
            "tags": []
          },
          "execution_count": 175
        },
        {
          "output_type": "display_data",
          "data": {
            "image/png": "[encoded data removed]",
            "text/plain": [
              "<Figure size 720x720 with 2 Axes>"
            ]
          },
          "metadata": {
            "tags": [],
            "needs_background": "light"
          }
        }
      ]
    },
    {
      "cell_type": "markdown",
      "metadata": {
        "id": "X4P9sEbrI2y_",
        "colab_type": "text"
      },
      "source": [
        "*Analysis of the attention weights:* \n",
        "\n",
        "As we can see, the attention weights are low in most cases. As we can see, the attention weights are low in most cases. This indicates that the first attention layer was largely content-independent. However, there are around 3-4 patches of high content-dependency. For example, word 102 depends on word 45, word 66, word 125 etc."
      ]
    },
    {
      "cell_type": "markdown",
      "metadata": {
        "id": "7S4NzjsAI8ZP",
        "colab_type": "text"
      },
      "source": [
        "\n",
        "\n",
        "---\n",
        "\n",
        "\n",
        "**Conclusion:** For this dataset, most of the weights were low. This could imply only very specific words have priority in deciding the flair in a post. This makes sense in the context of Reddit posts, as majority of the content is verbose description, while only a few factors in the entire post will be useful for classifying the post to its corresponding flair.\n",
        "\n",
        "\n",
        "\n",
        "---\n",
        "\n"
      ]
    }
  ]
}